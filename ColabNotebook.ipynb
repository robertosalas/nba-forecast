{
  "cells": [
    {
      "cell_type": "markdown",
      "metadata": {
        "id": "84FCh7pFCA2U"
      },
      "source": [
        "You could use this notebook on [Google Colab](https://colab.research.google.com/) with a GPU Hardware Accelerator runtype."
      ]
    },
    {
      "cell_type": "markdown",
      "metadata": {
        "id": "aBeeVTbb_WLL"
      },
      "source": [
        "# Bootstrap Model\n"
      ]
    },
    {
      "cell_type": "code",
      "execution_count": null,
      "metadata": {
        "id": "cEOhYxk-ASjw"
      },
      "outputs": [],
      "source": [
        "#Remove Preexisting Files\n",
        "! rm -rf NBA-Machine-Learning-Sports-Betting\n",
        "! rm -rf *\n",
        "\n",
        "#Bootstrap Files\n",
        "! git clone https://github.com/kyleskom/NBA-Machine-Learning-Sports-Betting.git\n",
        "! mv -v ./NBA-Machine-Learning-Sports-Betting/* .\n",
        "! pip3 install -r requirements.txt\n",
        "\n",
        "#Clear Bootstrap Logs\n",
        "from IPython.display import clear_output \n",
        "clear_output()\n",
        "\n",
        "print(\"Successful Bootstrap!!!\")"
      ]
    },
    {
      "cell_type": "markdown",
      "metadata": {
        "id": "Wurq7KgC_ckH"
      },
      "source": [
        "# Run Model\n"
      ]
    },
    {
      "cell_type": "code",
      "execution_count": 1,
      "metadata": {
        "id": "QBu_ZuXvNgqR"
      },
      "outputs": [
        {
          "name": "stdout",
          "output_type": "stream",
          "text": [
            "------------------fanduel odds data------------------\n",
            "Portland Trail Blazers (144) @ Detroit Pistons (-172)\n",
            "Milwaukee Bucks (-205) @ Toronto Raptors (172)\n",
            "Indiana Pacers (480) @ Boston Celtics (-650)\n",
            "Brooklyn Nets (200) @ Miami Heat (-245)\n",
            "New Orleans Pelicans (136) @ Oklahoma City Thunder (-162)\n",
            "Washington Wizards (260) @ Atlanta Hawks (-320)\n",
            "Cleveland Cavaliers (225) @ New York Knicks (-275)\n",
            "Charlotte Hornets (114) @ Houston Rockets (-134)\n",
            "Denver Nuggets (-154) @ Minnesota Timberwolves (130)\n",
            "Chicago Bulls (172) @ Dallas Mavericks (-205)\n",
            "Memphis Grizzlies (122) @ Utah Jazz (-144)\n",
            "LA Clippers (164) @ Los Angeles Lakers (-196)\n",
            "Sacramento Kings (245) @ Golden State Warriors (-300)\n",
            "---------------XGBoost Model Predictions---------------\n",
            "\u001b[32mDetroit Pistons\u001b[0m\u001b[36m (73.4%)\u001b[0m vs \u001b[31mPortland Trail Blazers\u001b[0m: \u001b[35mUNDER \u001b[0m224\u001b[0m\u001b[36m (54.1%)\u001b[0m\n",
            "\u001b[31mToronto Raptors\u001b[0m vs \u001b[32mMilwaukee Bucks\u001b[0m\u001b[36m (55.7%)\u001b[0m: \u001b[35mUNDER \u001b[0m213.5\u001b[0m\u001b[36m (64.6%)\u001b[0m\n",
            "\u001b[32mBoston Celtics\u001b[0m\u001b[36m (66.8%)\u001b[0m vs \u001b[31mIndiana Pacers\u001b[0m: \u001b[35mUNDER \u001b[0m225.5\u001b[0m\u001b[36m (57.2%)\u001b[0m\n",
            "\u001b[31mMiami Heat\u001b[0m vs \u001b[32mBrooklyn Nets\u001b[0m\u001b[36m (57.9%)\u001b[0m: \u001b[35mUNDER \u001b[0m238.5\u001b[0m\u001b[36m (60.0%)\u001b[0m\n",
            "\u001b[32mOklahoma City Thunder\u001b[0m\u001b[36m (65.3%)\u001b[0m vs \u001b[31mNew Orleans Pelicans\u001b[0m: \u001b[35mUNDER \u001b[0m231.5\u001b[0m\u001b[36m (75.3%)\u001b[0m\n",
            "\u001b[32mAtlanta Hawks\u001b[0m\u001b[36m (60.3%)\u001b[0m vs \u001b[31mWashington Wizards\u001b[0m: \u001b[35mUNDER \u001b[0m222.5\u001b[0m\u001b[36m (56.9%)\u001b[0m\n",
            "\u001b[32mNew York Knicks\u001b[0m\u001b[36m (75.8%)\u001b[0m vs \u001b[31mCleveland Cavaliers\u001b[0m: \u001b[35mUNDER \u001b[0m211.5\u001b[0m\u001b[36m (73.6%)\u001b[0m\n",
            "\u001b[31mHouston Rockets\u001b[0m vs \u001b[32mCharlotte Hornets\u001b[0m\u001b[36m (60.4%)\u001b[0m: \u001b[35mUNDER \u001b[0m223\u001b[0m\u001b[36m (56.4%)\u001b[0m\n",
            "\u001b[31mMinnesota Timberwolves\u001b[0m vs \u001b[32mDenver Nuggets\u001b[0m\u001b[36m (51.2%)\u001b[0m: \u001b[35mUNDER \u001b[0m223.5\u001b[0m\u001b[36m (51.5%)\u001b[0m\n",
            "\u001b[32mDallas Mavericks\u001b[0m\u001b[36m (63.6%)\u001b[0m vs \u001b[31mChicago Bulls\u001b[0m: \u001b[35mUNDER \u001b[0m225.5\u001b[0m\u001b[36m (54.8%)\u001b[0m\n",
            "\u001b[31mUtah Jazz\u001b[0m vs \u001b[32mMemphis Grizzlies\u001b[0m\u001b[36m (63.0%)\u001b[0m: \u001b[35mUNDER \u001b[0m227.5\u001b[0m\u001b[36m (61.0%)\u001b[0m\n",
            "\u001b[31mLos Angeles Lakers\u001b[0m vs \u001b[32mLA Clippers\u001b[0m\u001b[36m (57.6%)\u001b[0m: \u001b[35mUNDER \u001b[0m225.5\u001b[0m\u001b[36m (72.3%)\u001b[0m\n",
            "\u001b[32mGolden State Warriors\u001b[0m\u001b[36m (70.1%)\u001b[0m vs \u001b[31mSacramento Kings\u001b[0m: \u001b[35mUNDER \u001b[0m233.5\u001b[0m\u001b[36m (55.7%)\u001b[0m\n",
            "---------------------Expected Value--------------------\n",
            "Detroit Pistons EV: \u001b[32m16.02\u001b[0m\n",
            "Portland Trail Blazers EV: \u001b[31m-35.01\u001b[0m\n",
            "Toronto Raptors EV: \u001b[32m20.56\u001b[0m\n",
            "Milwaukee Bucks EV: \u001b[31m-17.16\u001b[0m\n",
            "Boston Celtics EV: \u001b[31m-22.96\u001b[0m\n",
            "Indiana Pacers EV: \u001b[32m92.76\u001b[0m\n",
            "Miami Heat EV: \u001b[31m-40.74\u001b[0m\n",
            "Brooklyn Nets EV: \u001b[32m73.76\u001b[0m\n",
            "Oklahoma City Thunder EV: \u001b[32m5.6\u001b[0m\n",
            "New Orleans Pelicans EV: \u001b[31m-18.1\u001b[0m\n",
            "Atlanta Hawks EV: \u001b[31m-20.89\u001b[0m\n",
            "Washington Wizards EV: \u001b[32m43.02\u001b[0m\n",
            "New York Knicks EV: \u001b[32m3.38\u001b[0m\n",
            "Cleveland Cavaliers EV: \u001b[31m-21.39\u001b[0m\n",
            "Houston Rockets EV: \u001b[31m-30.87\u001b[0m\n",
            "Charlotte Hornets EV: \u001b[32m29.28\u001b[0m\n",
            "Minnesota Timberwolves EV: \u001b[32m12.22\u001b[0m\n",
            "Denver Nuggets EV: \u001b[31m-15.54\u001b[0m\n",
            "Dallas Mavericks EV: \u001b[31m-5.38\u001b[0m\n",
            "Chicago Bulls EV: \u001b[31m-0.99\u001b[0m\n",
            "Utah Jazz EV: \u001b[31m-37.3\u001b[0m\n",
            "Memphis Grizzlies EV: \u001b[32m39.86\u001b[0m\n",
            "Los Angeles Lakers EV: \u001b[31m-35.98\u001b[0m\n",
            "LA Clippers EV: \u001b[32m52.08\u001b[0m\n",
            "Golden State Warriors EV: \u001b[31m-6.48\u001b[0m\n",
            "Sacramento Kings EV: \u001b[32m3.02\u001b[0m\n",
            "-------------------------------------------------------\n",
            "\u001b[0m"
          ]
        }
      ],
      "source": [
        "! python3 main.py -xgb -odds=fanduel"
      ]
    }
  ],
  "metadata": {
    "accelerator": "GPU",
    "colab": {
      "provenance": []
    },
    "gpuClass": "standard",
    "kernelspec": {
      "display_name": "Python 3",
      "name": "python3"
    },
    "language_info": {
      "codemirror_mode": {
        "name": "ipython",
        "version": 3
      },
      "file_extension": ".py",
      "mimetype": "text/x-python",
      "name": "python",
      "nbconvert_exporter": "python",
      "pygments_lexer": "ipython3",
      "version": "3.11.6"
    }
  },
  "nbformat": 4,
  "nbformat_minor": 0
}
